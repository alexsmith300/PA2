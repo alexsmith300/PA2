{
 "cells": [
  {
   "cell_type": "code",
   "execution_count": 20,
   "id": "859a45c4",
   "metadata": {},
   "outputs": [
    {
     "name": "stdout",
     "output_type": "stream",
     "text": [
      "Enter a floating point number: 44.3\n",
      "Enter an integer: 16\n",
      "The sum is:  60.3\n",
      "The difference is:  28.299999999999997\n",
      "The product is:  708.8\n",
      "The quotient is:  2.76875\n",
      "The type for the result is <class 'float'>\n"
     ]
    }
   ],
   "source": [
    "value1 = float(input('Enter a floating point number: '))\n",
    "value2 = int(input('Enter an integer: '))\n",
    "print('The sum is: ', value1 + value2)\n",
    "print('The difference is: ', value1 - value2)\n",
    "print('The product is: ', value1 * value2)\n",
    "print('The quotient is: ', value1 / value2)\n",
    "print('The type for the result is', type(value1))"
   ]
  },
  {
   "cell_type": "code",
   "execution_count": null,
   "id": "24b64257",
   "metadata": {},
   "outputs": [],
   "source": []
  }
 ],
 "metadata": {
  "kernelspec": {
   "display_name": "Python 3",
   "language": "python",
   "name": "python3"
  },
  "language_info": {
   "codemirror_mode": {
    "name": "ipython",
    "version": 3
   },
   "file_extension": ".py",
   "mimetype": "text/x-python",
   "name": "python",
   "nbconvert_exporter": "python",
   "pygments_lexer": "ipython3",
   "version": "3.8.8"
  }
 },
 "nbformat": 4,
 "nbformat_minor": 5
}
