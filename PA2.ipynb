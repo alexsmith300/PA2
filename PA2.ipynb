{
 "cells": [
  {
   "cell_type": "markdown",
   "id": "c47f81bd",
   "metadata": {},
   "source": [
    "# Alex Smith\n",
    "# Homework 2\n",
    "# Fall 2021"
   ]
  },
  {
   "cell_type": "markdown",
   "id": "53c9b779",
   "metadata": {},
   "source": [
    "## Write a Python program that prints number from 0 to 100 (using a for structure and the range() function) with each number of line by itself. For any number that is a multiple of 3 (except 0 and 3), print an asterisk next to it."
   ]
  },
  {
   "cell_type": "code",
   "execution_count": 69,
   "id": "cce5ad14",
   "metadata": {
    "scrolled": true
   },
   "outputs": [
    {
     "name": "stdout",
     "output_type": "stream",
     "text": [
      "1\n",
      "2\n",
      "3\n",
      "4\n",
      "5\n",
      "6 *\n",
      "7\n",
      "8\n",
      "9 *\n",
      "10\n",
      "11\n",
      "12 *\n",
      "13\n",
      "14\n",
      "15 *\n",
      "16\n",
      "17\n",
      "18 *\n",
      "19\n",
      "20\n",
      "21 *\n",
      "22\n",
      "23\n",
      "24 *\n",
      "25\n",
      "26\n",
      "27 *\n",
      "28\n",
      "29\n",
      "30 *\n",
      "31\n",
      "32\n",
      "33 *\n",
      "34\n",
      "35\n",
      "36 *\n",
      "37\n",
      "38\n",
      "39 *\n",
      "40\n",
      "41\n",
      "42 *\n",
      "43\n",
      "44\n",
      "45 *\n",
      "46\n",
      "47\n",
      "48 *\n",
      "49\n",
      "50\n",
      "51 *\n",
      "52\n",
      "53\n",
      "54 *\n",
      "55\n",
      "56\n",
      "57 *\n",
      "58\n",
      "59\n",
      "60 *\n",
      "61\n",
      "62\n",
      "63 *\n",
      "64\n",
      "65\n",
      "66 *\n",
      "67\n",
      "68\n",
      "69 *\n",
      "70\n",
      "71\n",
      "72 *\n",
      "73\n",
      "74\n",
      "75 *\n",
      "76\n",
      "77\n",
      "78 *\n",
      "79\n",
      "80\n",
      "81 *\n",
      "82\n",
      "83\n",
      "84 *\n",
      "85\n",
      "86\n",
      "87 *\n",
      "88\n",
      "89\n",
      "90 *\n",
      "91\n",
      "92\n",
      "93 *\n",
      "94\n",
      "95\n",
      "96 *\n",
      "97\n",
      "98\n",
      "99 *\n"
     ]
    }
   ],
   "source": [
    "for num in range (1,100):\n",
    "    \n",
    "    if num %3==0 and num !=3:\n",
    "        print(num, \"*\")\n",
    "    \n",
    "    else:\n",
    "        print(num)"
   ]
  },
  {
   "cell_type": "markdown",
   "id": "40298398",
   "metadata": {},
   "source": [
    "## Write a Python program that will evaluate if a value that represents an age falls into the following categories: minor(<18), adult(18-64), senior citizen(>=65). Your program should prompt for the age in a loop. If the user enters a zero (0), the program should stop prompting the user. Hint: You’ll use the input() function for this problem."
   ]
  },
  {
   "cell_type": "code",
   "execution_count": 6,
   "id": "44394a54",
   "metadata": {},
   "outputs": [
    {
     "name": "stdout",
     "output_type": "stream",
     "text": [
      "What is the subject's age? 5\n",
      "Minor\n",
      "What is the subject's age? 12\n",
      "Minor\n",
      "What is the subject's age? 18\n",
      "Adult\n",
      "What is the subject's age? 65\n",
      "Senior Citizen\n",
      "What is the subject's age? 0\n"
     ]
    }
   ],
   "source": [
    "age=int(input(\"What is the subject's age? \"))\n",
    "\n",
    "while age != 0:\n",
    "    \n",
    "    if age<=17:\n",
    "        print(\"Minor\")\n",
    "    \n",
    "    elif age>=18 and age<=64:\n",
    "        print(\"Adult\")\n",
    "    \n",
    "    elif age>=65:\n",
    "        print(\"Senior Citizen\")\n",
    "        \n",
    "    age=int(input(\"What is the subject's age? \"))"
   ]
  },
  {
   "cell_type": "markdown",
   "id": "cef4a177",
   "metadata": {},
   "source": [
    "## Write a Python program that will evaluate if a value that represents an age falls into the following categories: minor(<18), adult(18-64), senior citizen(>=65). Your program should prompt for the age in a loop. If the user enters a zero (0), the program should stop prompting the user. Hint: You’ll use the input() function for this problem."
   ]
  },
  {
   "cell_type": "code",
   "execution_count": 7,
   "id": "cc333613",
   "metadata": {
    "scrolled": true
   },
   "outputs": [
    {
     "name": "stdout",
     "output_type": "stream",
     "text": [
      "65 : Senior Citizen\n",
      "78 : Senior Citizen\n",
      "34 : Adult\n",
      "56 : Adult\n",
      "43 : Adult\n",
      "67 : Senior Citizen\n"
     ]
    }
   ],
   "source": [
    "age = [65,78,34,56,12,9,43,67]\n",
    "for num in age:\n",
    "    \n",
    "    if num <=1:\n",
    "        print(num, \": Minor\")\n",
    "    \n",
    "    elif num >=18 and num <= 64:\n",
    "        print(num, \": Adult\")\n",
    "    \n",
    "    elif num>=65:\n",
    "        print(num, \": Senior Citizen\")"
   ]
  },
  {
   "cell_type": "code",
   "execution_count": null,
   "id": "5d84a786",
   "metadata": {},
   "outputs": [],
   "source": []
  }
 ],
 "metadata": {
  "kernelspec": {
   "display_name": "Python 3",
   "language": "python",
   "name": "python3"
  },
  "language_info": {
   "codemirror_mode": {
    "name": "ipython",
    "version": 3
   },
   "file_extension": ".py",
   "mimetype": "text/x-python",
   "name": "python",
   "nbconvert_exporter": "python",
   "pygments_lexer": "ipython3",
   "version": "3.8.8"
  }
 },
 "nbformat": 4,
 "nbformat_minor": 5
}
